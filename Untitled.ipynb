{
 "cells": [
  {
   "cell_type": "code",
   "execution_count": 1,
   "id": "f3da1cfe",
   "metadata": {},
   "outputs": [
    {
     "name": "stdout",
     "output_type": "stream",
     "text": [
      "Requirement already satisfied: graphistry in /Users/apple/Library/Python/3.10/lib/python/site-packages (0.28.6)\n",
      "Requirement already satisfied: pandas>=0.17.0 in /opt/homebrew/lib/python3.10/site-packages (from graphistry) (1.5.2)\n",
      "Requirement already satisfied: requests in /opt/homebrew/lib/python3.10/site-packages (from graphistry) (2.28.1)\n",
      "Requirement already satisfied: squarify in /opt/homebrew/lib/python3.10/site-packages (from graphistry) (0.4.3)\n",
      "Requirement already satisfied: palettable>=3.0 in /opt/homebrew/lib/python3.10/site-packages (from graphistry) (3.3.0)\n",
      "Requirement already satisfied: typing-extensions in /opt/homebrew/lib/python3.10/site-packages (from graphistry) (4.4.0)\n",
      "Requirement already satisfied: pyarrow>=0.15.0 in /opt/homebrew/lib/python3.10/site-packages (from graphistry) (10.0.1)\n",
      "Requirement already satisfied: numpy in /opt/homebrew/lib/python3.10/site-packages (from graphistry) (1.23.5)\n",
      "Requirement already satisfied: packaging>=20.1 in /opt/homebrew/lib/python3.10/site-packages (from graphistry) (22.0)\n",
      "Requirement already satisfied: pytz>=2020.1 in /opt/homebrew/lib/python3.10/site-packages (from pandas>=0.17.0->graphistry) (2022.7)\n",
      "Requirement already satisfied: python-dateutil>=2.8.1 in /opt/homebrew/lib/python3.10/site-packages (from pandas>=0.17.0->graphistry) (2.8.2)\n",
      "Requirement already satisfied: certifi>=2017.4.17 in /opt/homebrew/lib/python3.10/site-packages (from requests->graphistry) (2022.12.7)\n",
      "Requirement already satisfied: charset-normalizer<3,>=2 in /opt/homebrew/lib/python3.10/site-packages (from requests->graphistry) (2.1.1)\n",
      "Requirement already satisfied: urllib3<1.27,>=1.21.1 in /opt/homebrew/lib/python3.10/site-packages (from requests->graphistry) (1.26.13)\n",
      "Requirement already satisfied: idna<4,>=2.5 in /opt/homebrew/lib/python3.10/site-packages (from requests->graphistry) (3.4)\n",
      "Requirement already satisfied: six>=1.5 in /opt/homebrew/lib/python3.10/site-packages (from python-dateutil>=2.8.1->pandas>=0.17.0->graphistry) (1.16.0)\n",
      "Note: you may need to restart the kernel to use updated packages.\n"
     ]
    }
   ],
   "source": [
    "%pip install graphistry"
   ]
  },
  {
   "cell_type": "code",
   "execution_count": 2,
   "id": "a5f3d87a",
   "metadata": {},
   "outputs": [],
   "source": [
    "import graphistry\n",
    "graphistry.register(api=3,personal_key_id='N11OMK682O', personal_key_secret='3D9JMTGATJNRQXE0', protocol='https', server='hub.graphistry.com')\n"
   ]
  },
  {
   "cell_type": "code",
   "execution_count": null,
   "id": "b267a4f6",
   "metadata": {},
   "outputs": [],
   "source": []
  }
 ],
 "metadata": {
  "kernelspec": {
   "display_name": "Python 3 (ipykernel)",
   "language": "python",
   "name": "python3"
  },
  "language_info": {
   "codemirror_mode": {
    "name": "ipython",
    "version": 3
   },
   "file_extension": ".py",
   "mimetype": "text/x-python",
   "name": "python",
   "nbconvert_exporter": "python",
   "pygments_lexer": "ipython3",
   "version": "3.10.9"
  }
 },
 "nbformat": 4,
 "nbformat_minor": 5
}
